{
  "cells": [
    {
      "cell_type": "code",
      "execution_count": 3,
      "metadata": {
        "colab": {
          "base_uri": "https://localhost:8080/",
          "height": 0
        },
        "collapsed": true,
        "id": "vGD8Utuuxg6j",
        "outputId": "b6eabd40-e8af-4ca9-f080-0f625a12761f"
      },
      "outputs": [
        {
          "output_type": "stream",
          "name": "stdout",
          "text": [
            "        Date                   Mode        Category              Subcategory  \\\n",
            "0  9/20/2018                   Cash  Transportation                    Train   \n",
            "1  9/20/2018                   Cash            Food                   snacks   \n",
            "2  9/19/2018  Saving Bank account 1    subscription                  Netflix   \n",
            "3  9/17/2018  Saving Bank account 1    subscription  Mobile Service Provider   \n",
            "4  9/16/2018                   Cash       Festivals             Ganesh Pujan   \n",
            "\n",
            "                          Note  Amount Income/Expense Currency  \n",
            "0         2 Place 5 to Place 0    30.0        Expense      INR  \n",
            "1  Idli medu Vada mix 2 plates    60.0        Expense      INR  \n",
            "2         1 month subscription   199.0        Expense      INR  \n",
            "3            Data booster pack    19.0        Expense      INR  \n",
            "4                  Ganesh idol   251.0        Expense      INR  \n",
            "<class 'pandas.core.frame.DataFrame'>\n",
            "RangeIndex: 2461 entries, 0 to 2460\n",
            "Data columns (total 8 columns):\n",
            " #   Column          Non-Null Count  Dtype  \n",
            "---  ------          --------------  -----  \n",
            " 0   Date            2461 non-null   object \n",
            " 1   Mode            2461 non-null   object \n",
            " 2   Category        2461 non-null   object \n",
            " 3   Subcategory     1826 non-null   object \n",
            " 4   Note            1940 non-null   object \n",
            " 5   Amount          2461 non-null   float64\n",
            " 6   Income/Expense  2461 non-null   object \n",
            " 7   Currency        2461 non-null   object \n",
            "dtypes: float64(1), object(7)\n",
            "memory usage: 153.9+ KB\n",
            "None\n"
          ]
        }
      ],
      "source": [
        "import pandas as pd\n",
        "df = pd.read_csv(\"Daily Household Transactions.csv\")\n",
        "print(df.head())\n",
        "print(df.info())"
      ]
    },
    {
      "cell_type": "code",
      "execution_count": 5,
      "metadata": {
        "colab": {
          "base_uri": "https://localhost:8080/",
          "height": 0
        },
        "id": "WgDyoA-Ixy3k",
        "outputId": "a280cee3-21f9-435e-dd2f-f6fe95937e59"
      },
      "outputs": [
        {
          "output_type": "stream",
          "name": "stdout",
          "text": [
            "Original shape: (2461, 8)\n",
            "\n",
            "Missing values before cleaning:\n",
            " Date                0\n",
            "Mode                0\n",
            "Category            0\n",
            "Subcategory       635\n",
            "Note              521\n",
            "Amount              0\n",
            "Income/Expense      0\n",
            "Currency            0\n",
            "dtype: int64\n",
            "\n",
            " Data cleaning & normalization complete!\n",
            "New shape: (2135, 8)\n",
            "\n",
            "Sample after cleaning:\n",
            "          Date         Mode        Category Subcategory  \\\n",
            "0  2015-01-01         Cash  Transportation     Unknown   \n",
            "1  2015-01-01  Credit Card            Food     Unknown   \n",
            "2  2015-01-01         Cash  Transportation     Unknown   \n",
            "3  2015-01-01         Cash  Transportation     Unknown   \n",
            "4  2015-01-01         Cash         Culture     Unknown   \n",
            "\n",
            "                                   Note  Amount Income/Expense Currency  \n",
            "0  Share Auto - Hospital To Brc Station    10.0        Expense      Inr  \n",
            "1                Bendys Chicken Biryani   400.0        Expense      Inr  \n",
            "2      Share Jeep - Place T Top To Base    20.0        Expense      Inr  \n",
            "3           Share Jeep - Place T To Brc    60.0        Expense      Inr  \n",
            "4                              Monument    40.0        Expense      Inr  \n"
          ]
        }
      ],
      "source": [
        "import numpy as np\n",
        "print(\"Original shape:\", df.shape)\n",
        "df.columns = df.columns.str.strip()\n",
        "print(\"\\nMissing values before cleaning:\\n\", df.isnull().sum())\n",
        "text_cols = ['Mode', 'Category', 'Note', 'Income/Expense', 'Currency']\n",
        "for col in text_cols:\n",
        "    if col in df.columns:\n",
        "        df[col] = df[col].fillna(\"Unknown\")\n",
        "if 'Subcategory' in df.columns:\n",
        "    df['Subcategory'] = df['Subcategory'].apply(\n",
        "        lambda x: str(x).strip().title() if pd.notna(x) and str(x).strip() != \"\" else \"Unknown\"\n",
        "    )\n",
        "else:\n",
        "    print(\" No column named 'Subcategory'. Please check column names above.\")\n",
        "df = df.dropna(subset=['Date', 'Amount'])\n",
        "df['Date'] = pd.to_datetime(df['Date'], errors='coerce')\n",
        "df = df.dropna(subset=['Date'])\n",
        "df['Date'] = df['Date'].dt.strftime('%Y-%m-%d')\n",
        "def clean_text(x):\n",
        "    if pd.isna(x) or str(x).strip() == \"\":\n",
        "        return \"Unknown\"\n",
        "    return str(x).strip().title()\n",
        "\n",
        "for col in text_cols:\n",
        "    if col in df.columns:\n",
        "        df[col] = df[col].apply(clean_text)\n",
        "\n",
        "df['Income/Expense'] = df['Income/Expense'].replace({\n",
        "    'Expenses': 'Expense',\n",
        "    'Incomes': 'Income'\n",
        "}).str.capitalize()\n",
        "\n",
        "df['Amount'] = pd.to_numeric(df['Amount'], errors='coerce')\n",
        "df = df.dropna(subset=['Amount'])\n",
        "df = df[df['Amount'] >= 0]\n",
        "\n",
        "df = df.drop_duplicates()\n",
        "Q1 = df['Amount'].quantile(0.25)\n",
        "Q3 = df['Amount'].quantile(0.75)\n",
        "IQR = Q3 - Q1\n",
        "\n",
        "lower_bound = Q1 - 1.5 * IQR\n",
        "upper_bound = Q3 + 1.5 * IQR\n",
        "\n",
        "df = df[(df['Amount'] >= lower_bound) & (df['Amount'] <= upper_bound)]\n",
        "df = df.sort_values(by='Date').reset_index(drop=True)\n",
        "df.to_csv(\"Daily_Household_Transactions_Cleaned.csv\", index=False)\n",
        "\n",
        "print(\"\\n Data cleaning & normalization complete!\")\n",
        "print(\"New shape:\", df.shape)\n",
        "print(\"\\nSample after cleaning:\\n\", df.head())\n"
      ]
    },
    {
      "cell_type": "code",
      "execution_count": 6,
      "metadata": {
        "colab": {
          "base_uri": "https://localhost:8080/",
          "height": 0
        },
        "id": "4VfQQbCUFB0a",
        "outputId": "2c7fa2a9-d67c-41a1-e292-1ddf83d4da6f"
      },
      "outputs": [
        {
          "output_type": "stream",
          "name": "stderr",
          "text": [
            "/tmp/ipython-input-2989239665.py:8: FutureWarning: 'M' is deprecated and will be removed in a future version, please use 'ME' instead.\n",
            "  monthly = df.groupby(pd.Grouper(key='Date', freq='M'))['Amount'].sum().reset_index()\n"
          ]
        },
        {
          "output_type": "stream",
          "name": "stdout",
          "text": [
            " Saved monthly aggregated totals as monthly.csv\n",
            "           ds         y\n",
            "40 2018-05-31   9170.00\n",
            "41 2018-06-30   8782.02\n",
            "42 2018-07-31  19988.36\n",
            "43 2018-08-31  11595.65\n",
            "44 2018-09-30   2724.00\n"
          ]
        },
        {
          "output_type": "stream",
          "name": "stderr",
          "text": [
            "INFO:prophet:Disabling weekly seasonality. Run prophet with weekly_seasonality=True to override this.\n",
            "DEBUG:cmdstanpy:input tempfile: /tmp/tmpp99l876h/1_yxbw89.json\n",
            "DEBUG:cmdstanpy:input tempfile: /tmp/tmpp99l876h/xyej_8tg.json\n",
            "DEBUG:cmdstanpy:idx 0\n",
            "DEBUG:cmdstanpy:running CmdStan, num_threads: None\n",
            "DEBUG:cmdstanpy:CmdStan args: ['/usr/local/lib/python3.11/dist-packages/prophet/stan_model/prophet_model.bin', 'random', 'seed=99270', 'data', 'file=/tmp/tmpp99l876h/1_yxbw89.json', 'init=/tmp/tmpp99l876h/xyej_8tg.json', 'output', 'file=/tmp/tmpp99l876h/prophet_modeldm1o4m14/prophet_model-20250814070406.csv', 'method=optimize', 'algorithm=newton', 'iter=10000']\n",
            "07:04:06 - cmdstanpy - INFO - Chain [1] start processing\n",
            "INFO:cmdstanpy:Chain [1] start processing\n",
            "07:04:06 - cmdstanpy - INFO - Chain [1] done processing\n",
            "INFO:cmdstanpy:Chain [1] done processing\n",
            "/usr/local/lib/python3.11/dist-packages/prophet/forecaster.py:1872: FutureWarning: 'M' is deprecated and will be removed in a future version, please use 'ME' instead.\n",
            "  dates = pd.date_range(\n"
          ]
        },
        {
          "output_type": "stream",
          "name": "stdout",
          "text": [
            "\n",
            " Saved 12-month ahead forecast as forecast.csv\n",
            "           ds          yhat    yhat_lower    yhat_upper\n",
            "45 2018-10-31  15183.127939  11677.067997  18796.737742\n",
            "46 2018-11-30  13158.501733   9535.730949  16732.230021\n",
            "47 2018-12-31  16002.217267  12443.967344  19555.295091\n",
            "48 2019-01-31  14031.540015  10667.766650  17521.267315\n",
            "49 2019-02-28  12186.441165   9084.957142  15571.073280\n",
            "50 2019-03-31  18110.537441  14521.661490  21461.162263\n",
            "51 2019-04-30  13027.376267   9542.117045  16740.086027\n",
            "52 2019-05-31  13203.828904   9547.603565  16581.967288\n",
            "53 2019-06-30  10823.305191   7078.878326  14486.451506\n",
            "54 2019-07-31  16045.027491  12688.541158  19422.989203\n",
            "55 2019-08-31  14174.789110  10579.153374  17616.891408\n",
            "56 2019-09-30   9932.161715   6556.388558  13181.629350\n"
          ]
        }
      ],
      "source": [
        "import pandas as pd\n",
        "from prophet import Prophet\n",
        "df = pd.read_csv(\"Daily_Household_Transactions_Cleaned.csv\")\n",
        "df['Date'] = pd.to_datetime(df['Date'], errors='coerce')\n",
        "\n",
        "df = df[df['Income/Expense'].str.lower() == 'expense']\n",
        "\n",
        "monthly = df.groupby(pd.Grouper(key='Date', freq='M'))['Amount'].sum().reset_index()\n",
        "monthly.columns = ['ds', 'y']\n",
        "\n",
        "monthly.to_csv(\"monthly.csv\", index=False)\n",
        "print(\" Saved monthly aggregated totals as monthly.csv\")\n",
        "print(monthly.tail())\n",
        "\n",
        "model = Prophet(yearly_seasonality=True, daily_seasonality=False)\n",
        "model.fit(monthly)\n",
        "\n",
        "future = model.make_future_dataframe(periods=12, freq='M')\n",
        "forecast = model.predict(future)\n",
        "\n",
        "last_actual_date = monthly['ds'].max()\n",
        "future_forecast = forecast[forecast['ds'] > last_actual_date][['ds', 'yhat', 'yhat_lower', 'yhat_upper']]\n",
        "\n",
        "future_forecast.to_csv(\"forecast.csv\", index=False)\n",
        "print(\"\\n Saved 12-month ahead forecast as forecast.csv\")\n",
        "print(future_forecast)\n",
        "\n",
        "full_forecast = forecast[['ds', 'yhat']].merge(monthly, on='ds', how='left')\n",
        "full_forecast.to_csv(\"forecast_with_history.csv\", index=False)\n"
      ]
    },
    {
      "cell_type": "code",
      "execution_count": 7,
      "metadata": {
        "colab": {
          "base_uri": "https://localhost:8080/",
          "height": 0
        },
        "id": "WzSKPxg-0vYd",
        "outputId": "6371ea49-6809-4b2d-c488-34ff983e9233"
      },
      "outputs": [
        {
          "output_type": "stream",
          "name": "stdout",
          "text": [
            "Historical Monthly Expense Budget Scenarios:\n",
            "     Scenario  Variance_Multiplier       Budget\n",
            "0   Best Case                  0.5  12192.09481\n",
            "1    Expected                  1.0  14063.65162\n",
            "2  Worst Case                  1.5  15935.20843\n",
            "\n",
            "Historical average monthly expense : ₹10,320.54\n",
            "Historical monthly expense std dev  : ₹3,743.11\n"
          ]
        },
        {
          "output_type": "stream",
          "name": "stderr",
          "text": [
            "/tmp/ipython-input-1688373433.py:7: FutureWarning: 'M' is deprecated and will be removed in a future version, please use 'ME' instead.\n",
            "  monthly = df.groupby(pd.Grouper(key='Date', freq='M'))['Amount'].sum().reset_index()\n"
          ]
        }
      ],
      "source": [
        "import pandas as pd\n",
        "import numpy as np\n",
        "df = pd.read_csv(\"Daily_Household_Transactions_Cleaned.csv\")\n",
        "df['Date'] = pd.to_datetime(df['Date'], errors='coerce')\n",
        "df = df[df['Income/Expense'].str.lower() == 'expense']\n",
        "\n",
        "monthly = df.groupby(pd.Grouper(key='Date', freq='M'))['Amount'].sum().reset_index()\n",
        "monthly.columns = ['ds', 'y']\n",
        "\n",
        "avg_monthly_expense = monthly['y'].mean()\n",
        "std_monthly_expense = monthly['y'].std()\n",
        "\n",
        "k_best_case = 0.5\n",
        "k_expected = 1.0\n",
        "k_worst_case = 1.5\n",
        "\n",
        "budget_best_case = avg_monthly_expense + k_best_case * std_monthly_expense\n",
        "budget_expected = avg_monthly_expense + k_expected * std_monthly_expense\n",
        "budget_worst_case = avg_monthly_expense + k_worst_case * std_monthly_expense\n",
        "\n",
        "budget_df = pd.DataFrame({\n",
        "    'Scenario': ['Best Case', 'Expected', 'Worst Case'],\n",
        "    'Variance_Multiplier': [k_best_case, k_expected, k_worst_case],\n",
        "    'Budget': [budget_best_case, budget_expected, budget_worst_case]\n",
        "})\n",
        "\n",
        "print(\"Historical Monthly Expense Budget Scenarios:\")\n",
        "print(budget_df)\n",
        "print(f\"\\nHistorical average monthly expense : ₹{avg_monthly_expense:,.2f}\")\n",
        "print(f\"Historical monthly expense std dev  : ₹{std_monthly_expense:,.2f}\")\n"
      ]
    },
    {
      "cell_type": "code",
      "execution_count": 8,
      "metadata": {
        "id": "KL09J1FcKOny",
        "colab": {
          "base_uri": "https://localhost:8080/",
          "height": 0
        },
        "outputId": "d1d29301-babb-4fbb-d9cd-a3ae07160810"
      },
      "outputs": [
        {
          "output_type": "stream",
          "name": "stdout",
          "text": [
            "\u001b[2K     \u001b[90m━━━━━━━━━━━━━━━━━━━━━━━━━━━━━━━━━━━━━━━━\u001b[0m \u001b[32m44.3/44.3 kB\u001b[0m \u001b[31m3.2 MB/s\u001b[0m eta \u001b[36m0:00:00\u001b[0m\n",
            "\u001b[2K   \u001b[90m━━━━━━━━━━━━━━━━━━━━━━━━━━━━━━━━━━━━━━━━\u001b[0m \u001b[32m9.9/9.9 MB\u001b[0m \u001b[31m97.0 MB/s\u001b[0m eta \u001b[36m0:00:00\u001b[0m\n",
            "\u001b[2K   \u001b[90m━━━━━━━━━━━━━━━━━━━━━━━━━━━━━━━━━━━━━━━━\u001b[0m \u001b[32m6.9/6.9 MB\u001b[0m \u001b[31m54.5 MB/s\u001b[0m eta \u001b[36m0:00:00\u001b[0m\n",
            "\u001b[2K   \u001b[90m━━━━━━━━━━━━━━━━━━━━━━━━━━━━━━━━━━━━━━━━\u001b[0m \u001b[32m79.1/79.1 kB\u001b[0m \u001b[31m5.4 MB/s\u001b[0m eta \u001b[36m0:00:00\u001b[0m\n",
            "\u001b[?25h"
          ]
        }
      ],
      "source": [
        "! pip install streamlit -q"
      ]
    },
    {
      "cell_type": "code",
      "execution_count": 9,
      "metadata": {
        "colab": {
          "base_uri": "https://localhost:8080/",
          "height": 0
        },
        "id": "67_2APt-0NnI",
        "outputId": "ae26fb6e-4303-4973-c8d1-7d3b5332a939"
      },
      "outputs": [
        {
          "output_type": "stream",
          "name": "stdout",
          "text": [
            "Writing app.py\n"
          ]
        }
      ],
      "source": [
        "%%writefile app.py\n",
        "import streamlit as st\n",
        "import pandas as pd\n",
        "import plotly.express as px\n",
        "\n",
        "st.set_page_config(page_title=\"Forecast vs Actual Dashboard\", layout=\"wide\")\n",
        "\n",
        "st.title(\" Monthly Expense: Forecast vs Actual Spend\")\n",
        "\n",
        "monthly = pd.read_csv(\"monthly.csv\")\n",
        "forecast = pd.read_csv(\"forecast.csv\")\n",
        "\n",
        "df = pd.merge(monthly, forecast[['ds','yhat']], on='ds', how='outer').sort_values('ds')\n",
        "\n",
        "fig = px.line(df, x=\"ds\", y=[\"y\", \"yhat\"],\n",
        "              labels={\"value\": \"Amount (₹)\", \"ds\": \"Month\"},\n",
        "              title=\"Actual vs Forecast Monthly Expenses\")\n",
        "st.plotly_chart(fig, use_container_width=True)\n",
        "\n",
        "avg_expense = df['y'].mean()\n",
        "st.metric(label=\"Average Monthly Expense (Actual)\", value=f\"₹{avg_expense:,.2f}\")"
      ]
    },
    {
      "cell_type": "code",
      "source": [],
      "metadata": {
        "id": "xYzMBSRlbg9n"
      },
      "execution_count": null,
      "outputs": []
    },
    {
      "cell_type": "code",
      "source": [
        "# Install dependencies\n",
        "!pip install pyngrok streamlit -q\n",
        "\n",
        "from pyngrok import ngrok\n",
        "import time\n",
        "import threading\n",
        "import os\n",
        "\n",
        "# Kill any existing tunnels\n",
        "ngrok.kill()\n",
        "\n",
        "# Authenticate ngrok (replace with your own token from https://dashboard.ngrok.com/get-started/your-authtoken)\n",
        "ngrok.set_auth_token(\"31FLyj5XxRbQKELoteSfkIoFNTv_5XsBCpBm8BGTBykLVZVKq\")\n",
        "\n",
        "# Start the Streamlit app in the background\n",
        "def run_app():\n",
        "    os.system(\"streamlit run app.py --server.port 8501\")\n",
        "\n",
        "threading.Thread(target=run_app).start()\n",
        "\n",
        "# Wait for app to start\n",
        "time.sleep(5)\n",
        "\n",
        "# Create ngrok tunnel to port 8501\n",
        "public_url = ngrok.connect(8501)\n",
        "print(\"Public URL:\", public_url)\n"
      ],
      "metadata": {
        "colab": {
          "base_uri": "https://localhost:8080/"
        },
        "id": "BiXNm2RKbitZ",
        "outputId": "3ca66431-c460-447b-c8df-7869407c1a52"
      },
      "execution_count": 11,
      "outputs": [
        {
          "output_type": "stream",
          "name": "stdout",
          "text": [
            "Public URL: NgrokTunnel: \"https://92129da45f03.ngrok-free.app\" -> \"http://localhost:8501\"\n"
          ]
        }
      ]
    }
  ],
  "metadata": {
    "colab": {
      "provenance": []
    },
    "kernelspec": {
      "display_name": "Python 3",
      "name": "python3"
    },
    "language_info": {
      "name": "python"
    }
  },
  "nbformat": 4,
  "nbformat_minor": 0
}